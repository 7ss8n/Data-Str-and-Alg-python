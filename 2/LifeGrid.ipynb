{
 "cells": [
  {
   "cell_type": "markdown",
   "metadata": {},
   "source": [
    "An Implementation of LifeGrid ADT"
   ]
  },
  {
   "cell_type": "code",
   "execution_count": null,
   "metadata": {
    "collapsed": true
   },
   "outputs": [],
   "source": [
    "# Implements the LifeGrid ADT for use with the game of Life.\n",
    "from array import Array2D\n",
    "\n",
    "class LifeGrid :\n",
    "# Defines constants to represent the cell states.\n",
    "    DEAD_CELL = 0\n",
    "    LIVE_CELL = 1\n",
    "\n",
    "# Creates the game grid and initializes the cells to dead.\n",
    "    def __init__( self, numRows, numCols ):\n",
    "# Allocate the 2-D array for the grid.\n",
    "        self._grid = Array2D( numRows, numCols )\n",
    "# Clear the grid and set all cells to dead.\n",
    "        self.configure( list() )\n",
    "\n",
    "# Returns the number of rows in the grid.\n",
    "    def numRows( self ):\n",
    "        return self._grid.numRows()\n",
    "\n",
    "# Returns the number of columns in the grid.\n",
    "    def numCols( self ):\n",
    "        return self._grid.numCols()\n",
    "\n",
    "# Configures the grid to contain the given live cells.\n",
    "    def configure( self, coordList ):\n",
    "# Clear the game grid.\n",
    "        for i in range( self.numRows() ):\n",
    "            for j in range( self.numCols() ):\n",
    "                self.clearCell( i, j )\n",
    "\n",
    "# Set the indicated cells to be alive.\n",
    "        for coord in coordList :\n",
    "            self.setCell( coord[0], coord[1] )\n",
    "\n",
    "# Does the indicated cell contain a live organism?\n",
    "    def isLiveCell( self, row, col ):\n",
    "        return self._grid[row, col] == LifeGrid.LIVE_CELL\n",
    "\n",
    "# Clears the indicated cell by setting it to dead.\n",
    "    def clearCell( self, row, col ):\n",
    "        self._grid[row, col] = LifeGrid.DEAD_CELL\n",
    "\n",
    "# Sets the indicated cell to be alive.\n",
    "    def setCell( self, row, col ):\n",
    "        self._grid[row, col] = LifeGrid.LIVE_CELL\n",
    "'''\n",
    "# Returns the number of live neighbors for the given cell.\n",
    "    def numLiveNeighbors( self, row, col ):\n",
    "        sum = 0\n",
    "        neighbor = [(-1, -1), (-1, 0), (-1, 1), \\\n",
    "               (0, -1), (0, 1), (1, -1), (1, 0), (1, 1)]\n",
    "\n",
    "        for (i, j) in neighbor:\n",
    "            if (row+i >= 0) and (row+i < self.numRows()):\n",
    "                if (col+j >= 0) and (col+j < self.numCols()):\n",
    "                    sum += self._grid[row+i, col+j]\n",
    "        return sum\n",
    "'''\n",
    "\n",
    "# Returns the number of live neighbors for the given cell.\n",
    "    def numliveNeighbors( self, row, col ):\n",
    "        result = 0\n",
    "        for i in range(row - 1, col + 1):\n",
    "            for j in range(col - 1, col + 2):\n",
    "                if i > self._grid.numRows() or i < 0 or \\\n",
    "                j > self._grid.numCols() or j < 0:\n",
    "                    counter = 0\n",
    "                else:\n",
    "                    counter = self._grid[i, j]\n",
    "                result += counter\n",
    "        result -= self._grid[row, col]\n",
    "        return result"
   ]
  }
 ],
 "metadata": {
  "kernelspec": {
   "display_name": "Python 2",
   "language": "python",
   "name": "python2"
  },
  "language_info": {
   "codemirror_mode": {
    "name": "ipython",
    "version": 2
   },
   "file_extension": ".py",
   "mimetype": "text/x-python",
   "name": "python",
   "nbconvert_exporter": "python",
   "pygments_lexer": "ipython2",
   "version": "2.7.10"
  }
 },
 "nbformat": 4,
 "nbformat_minor": 0
}
