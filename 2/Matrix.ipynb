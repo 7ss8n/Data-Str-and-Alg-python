{
 "cells": [
  {
   "cell_type": "markdown",
   "metadata": {},
   "source": [
    "An Array2D implementation of Matrix"
   ]
  },
  {
   "cell_type": "code",
   "execution_count": null,
   "metadata": {
    "collapsed": true
   },
   "outputs": [],
   "source": [
    "from Array2D import Array2D\n",
    "class Matrix:\n",
    "    def __init__( self, nrows, ncols ):\n",
    "        self._elements = Array2D( nrows, ncols )\n",
    "        self._elements.clear( 0 )\n",
    "    \n",
    "    def numRows( self ):\n",
    "        return numRows( self._elements )\n",
    "    \n",
    "    def numCols( self ):\n",
    "        return numCols( self._elements )\n",
    "    \n",
    "    def __getitem__( self, ndxTuple ):\n",
    "        return self._elements[ ndxTuple[ 0 ] ][ ndxTuple[ 1 ] ]\n",
    "    \n",
    "    def __setitem__( self, ndxTuple, scalar ):\n",
    "        self._elements[ ndxTuple[ 0 ], ndxTuple[ 1 ] ] = scalar\n",
    "        \n",
    "    def scaleBy( self, scalar ):\n",
    "        for i in range( self.numRows() ):\n",
    "            for j in range( self.numCols() ):\n",
    "                self[ i, j ] *= scalar\n",
    "    \n",
    "    def tranpose( self ):\n",
    "        newMatrix = Matrix( self.numCols(), self,numRows() )\n",
    "        for i in range( self.numCols() ):\n",
    "            for j in range( self.numRows() ):\n",
    "                newMatrix[ i, j ] = self[ i, j ]\n",
    "        return newMatrix\n",
    "    \n",
    "    def __add__( self, rhsMatrix ):\n",
    "        assert self.numCols() == rhsMatrix.numCols() and self.numRows() == rhsMatrix.numRows(),\\\n",
    "        'Dimension not matched.'\n",
    "        newMatrix = Matrix( self.numRows(), self.numCols() )\n",
    "        for i in range( self.numRows() ):\n",
    "            for j in range( self.numCols() ):\n",
    "                newMatrix[ i, j ] = self[ i, j ] + rhsMatrix[ i, j ]\n",
    "        return newMatrix\n",
    "\n",
    "    def __sub__( self, rhsMatrix ):\n",
    "        assert self.numCols() == rhsMatrix.numCols() and self.numRows() == rhsMatrix.numRows(),\\\n",
    "        'Dimension not matched.'\n",
    "        newMatrix = Matrix( self.numRows(), self.numCols() )\n",
    "        for i in range( self.numRows() ):\n",
    "            for j in range( self.numCols() ):\n",
    "                newMatrix[ i, j ] = self[ i, j ] - rhsMatrix[ i, j ]\n",
    "        return newMatrix\n",
    "    \n",
    "    def __mul__( self, rhsMatrix ):\n",
    "        assert self.numRows() == rhsMatrix.numCols() and self.numCols() == rhsMatrix.numRows(),\\\n",
    "        'Dimension not matched.'\n",
    "        newMatrix = Matrix( self.numRows(), self.numCols() )\n",
    "        for i in range( self.numRows() ):\n",
    "            for j in range( self.numRows() ):\n",
    "                newMatrix[ i ,j ] = sum( [self[ i, x] * rhsMatrix[ x, j] for x in range( self.numCols())] )\n",
    "        return newMatrix"
   ]
  }
 ],
 "metadata": {
  "kernelspec": {
   "display_name": "Python 2",
   "language": "python",
   "name": "python2"
  },
  "language_info": {
   "codemirror_mode": {
    "name": "ipython",
    "version": 2
   },
   "file_extension": ".py",
   "mimetype": "text/x-python",
   "name": "python",
   "nbconvert_exporter": "python",
   "pygments_lexer": "ipython2",
   "version": "2.7.10"
  }
 },
 "nbformat": 4,
 "nbformat_minor": 0
}
