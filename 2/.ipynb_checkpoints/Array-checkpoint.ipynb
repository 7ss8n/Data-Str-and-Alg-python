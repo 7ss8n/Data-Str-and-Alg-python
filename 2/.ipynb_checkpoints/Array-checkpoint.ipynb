{
 "cells": [
  {
   "cell_type": "markdown",
   "metadata": {},
   "source": [
    "A physical array of array ADT"
   ]
  },
  {
   "cell_type": "code",
   "execution_count": 2,
   "metadata": {
    "collapsed": true
   },
   "outputs": [],
   "source": [
    "import ctypes\n",
    "\n",
    "class Array:\n",
    "    def __init_( self, size ):\n",
    "        self._size = size\n",
    "        physicalArray = ctypes.py_object * size\n",
    "        self._elements = physicalArray()\n",
    "        self.clear( None )\n",
    "        \n",
    "    def __len__( self ):\n",
    "        return self._size\n",
    "    \n",
    "    def __getitem__( self, index ):\n",
    "        assert index >= 0 and index < len( self ), 'Index out of bound.'\n",
    "        return self._elements[ index ]\n",
    "    \n",
    "    def __setitem__( self, index, value ):\n",
    "        assert index >= 0 and index < len( self ), 'Index out of bound.'\n",
    "        self._elements[ index ] = value\n",
    "        \n",
    "    def clear( self, value ):\n",
    "        for i in range( len( self ) ):\n",
    "            self[ i ] = value\n",
    "            \n",
    "    def __iter__( self ):\n",
    "        return _ArrayIterator( self._elements )\n",
    "    \n",
    "class _ArrayIterator:\n",
    "    def __init__( self, physicalList ):\n",
    "        self._list = physicalList\n",
    "        self._curNdx = 0\n",
    "        \n",
    "    def __iter__( self ):\n",
    "        return self\n",
    "    \n",
    "    def __next__( self ):\n",
    "        if self._curNdx < len( physicalList ):\n",
    "            item = self._list[ self._curNdx ]\n",
    "            return item\n",
    "        \n",
    "        else:\n",
    "            raise StopIteration"
   ]
  }
 ],
 "metadata": {
  "kernelspec": {
   "display_name": "Python 2",
   "language": "python",
   "name": "python2"
  },
  "language_info": {
   "codemirror_mode": {
    "name": "ipython",
    "version": 2
   },
   "file_extension": ".py",
   "mimetype": "text/x-python",
   "name": "python",
   "nbconvert_exporter": "python",
   "pygments_lexer": "ipython2",
   "version": "2.7.10"
  }
 },
 "nbformat": 4,
 "nbformat_minor": 0
}
