{
 "cells": [
  {
   "cell_type": "markdown",
   "metadata": {},
   "source": [
    "An array implementation of 2D Array"
   ]
  },
  {
   "cell_type": "code",
   "execution_count": null,
   "metadata": {
    "collapsed": true
   },
   "outputs": [],
   "source": [
    "import Array\n",
    "class Array2D:\n",
    "    def __init__( self, nrows, ncols ):\n",
    "        self._allrows = Array( nrows )\n",
    "        for row in self._allrows:\n",
    "            row = Array( ncols )\n",
    "            \n",
    "    def numRows( self ):\n",
    "        return len( self._allrows )\n",
    "    \n",
    "    def numCols( self ):\n",
    "        return len( self._allrows[ 0 ] )\n",
    "    \n",
    "    def clear( self, value ):\n",
    "        for row in self._allrows:\n",
    "            row.clear( value )\n",
    "            \n",
    "    def __getitem__( self, ndxTuple ):\n",
    "        assert len( ndxTuple ) == 2\n",
    "        i, j = ndxTuple[ 0 ], ndxTuple[ 1 ]\n",
    "        assert i >= 0 and i < self.numRows() and j >=0 and j < self.numCols(),\\\n",
    "        'Index out of bound.'\n",
    "        return self._allrows[ i ][ j ]\n",
    "    \n",
    "    def __setitem__( self, ndxTuple, value ):\n",
    "        assert type( ndxTuple ) is tuple, 'Wrong number of subscripts.'\n",
    "        i, j = ndxTuple[ 0 ], ndxTuple[ 1 ]\n",
    "        assert i >= 0 and i < self.numRows() and j >=0 and j < self.numCols(),\\\n",
    "        'Index out of bound.'\n",
    "        self._allrows[ i ][ j ] = value                      "
   ]
  }
 ],
 "metadata": {
  "kernelspec": {
   "display_name": "Python 2",
   "language": "python",
   "name": "python2"
  },
  "language_info": {
   "codemirror_mode": {
    "name": "ipython",
    "version": 2
   },
   "file_extension": ".py",
   "mimetype": "text/x-python",
   "name": "python",
   "nbconvert_exporter": "python",
   "pygments_lexer": "ipython2",
   "version": "2.7.10"
  }
 },
 "nbformat": 4,
 "nbformat_minor": 0
}
