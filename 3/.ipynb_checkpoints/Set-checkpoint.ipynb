{
 "cells": [
  {
   "cell_type": "markdown",
   "metadata": {},
   "source": [
    "A list implementation of Set"
   ]
  },
  {
   "cell_type": "code",
   "execution_count": null,
   "metadata": {
    "collapsed": true
   },
   "outputs": [],
   "source": [
    "class set:\n",
    "    def __init__( self ):\n",
    "        self._elements = list()\n",
    "    \n",
    "    def __len__( self ):\n",
    "        return len( self._elements )\n",
    "    \n",
    "    def __contains__( self, element ):\n",
    "        return element in self._elements\n",
    "    \n",
    "    def add( self, element ):\n",
    "        if element not in self:\n",
    "            self._elements.append( element )\n",
    "    \n",
    "    def remove( self, element ):\n",
    "        assert element in self, 'Item must be in the set.'\n",
    "        \n",
    "    def __eq__( self, setB ):\n",
    "        return len( self ) == len( setB ) and set.isSubset( setB )\n",
    "    \n",
    "    def isSubset( self, setB ):\n",
    "        for element in self:\n",
    "            if element not in setB:\n",
    "                return False\n",
    "        return True\n",
    "    \n",
    "    def union( self, setB ):\n",
    "        newSet = set()\n",
    "        newSet._elements.extend( self )\n",
    "        for element in setB:\n",
    "            newSet.add( element )\n",
    "        return newSet\n",
    "    \n",
    "    def intersect( self, setB ):\n",
    "        newSet = set()\n",
    "        for element in self:\n",
    "            if element in setB:\n",
    "                newSet.add( element )\n",
    "        return newSet\n",
    "    \n",
    "    def difference( self, setB ):\n",
    "        newSet = set()\n",
    "        for element in self:\n",
    "            if element not in setB:\n",
    "                newSet._elements.append( element )\n",
    "        return newSet\n",
    "    \n",
    "    def __iter__( self ):\n",
    "        return _setIterator( self._elements )\n",
    "\n",
    "class _setIterator:\n",
    "    def __init__( self, aList ):\n",
    "        self._list = aList\n",
    "        self._curNdx = 0\n",
    "    \n",
    "    def __iter__( self ):\n",
    "        return self\n",
    "    \n",
    "    def __next__( self ):\n",
    "        if self._curNdx < len( self._list ):\n",
    "            item = self._list[ self._curNdx ]\n",
    "            self._curNdx += 1\n",
    "            return item\n",
    "        else:\n",
    "            raise StopIteration"
   ]
  }
 ],
 "metadata": {
  "kernelspec": {
   "display_name": "Python 2",
   "language": "python",
   "name": "python2"
  },
  "language_info": {
   "codemirror_mode": {
    "name": "ipython",
    "version": 2
   },
   "file_extension": ".py",
   "mimetype": "text/x-python",
   "name": "python",
   "nbconvert_exporter": "python",
   "pygments_lexer": "ipython2",
   "version": "2.7.10"
  }
 },
 "nbformat": 4,
 "nbformat_minor": 0
}
