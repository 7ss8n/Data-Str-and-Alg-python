{
 "cells": [
  {
   "cell_type": "markdown",
   "metadata": {},
   "source": [
    "An list implementation of Map ADT"
   ]
  },
  {
   "cell_type": "code",
   "execution_count": null,
   "metadata": {
    "collapsed": true
   },
   "outputs": [],
   "source": [
    "class Map:\n",
    "    def __init__( self ):\n",
    "        self._elements = list()\n",
    "        \n",
    "    def __len__( self ):\n",
    "        return len( self._elements )\n",
    "    \n",
    "    def __contains__( self, key ):\n",
    "        ndx = self._findPosition( key )\n",
    "        return ndx is not None\n",
    "    \n",
    "    def add( self, key, value ):\n",
    "        if key in self:\n",
    "            ndx = self._findPosition( key )\n",
    "            self._elements[ ndx ].value = value\n",
    "            return False\n",
    "        else:\n",
    "            newEntry = mapEntry( key, value )\n",
    "            self._elements.append( newEntry )\n",
    "            return True\n",
    "        \n",
    "    def remove( self, key ):\n",
    "        ndx = self._findPosition( key )\n",
    "        assert ndx is not None, 'Key is not in the map.'\n",
    "        self._elements.pop( ndx )\n",
    "        \n",
    "    def valueOf( self, key ):\n",
    "        ndx = self._findPosition( key )\n",
    "        assert ndx is not None, 'Key is not in the map.'\n",
    "        return self._elements[ ndx ]._value\n",
    "    \n",
    "    def __iter__( self ):\n",
    "        return _MapIterator ( self._elements )\n",
    "    \n",
    "    def _findPosition( self, key ):\n",
    "        for i in range( len ( self ) ):\n",
    "            if self._elements[ i ]._key == key:\n",
    "                return i\n",
    "        return None\n",
    "    \n",
    "    def MapEntry:\n",
    "        def __init__( self, key, value ):\n",
    "            self._key = key\n",
    "            self._value = value\n",
    "            \n",
    "class _mapIterator:\n",
    "    def __init__( self, aList ):\n",
    "        self._list = aList\n",
    "        self._curNdx = 0\n",
    "        \n",
    "    def __iter__( self ):\n",
    "        return self\n",
    "    \n",
    "    def __next__( self ):\n",
    "        if self._curNdx < len( self._list ):\n",
    "            item = self._list[ self._curNdx ]\n",
    "            self._curNdx += 1\n",
    "            return item\n",
    "        else:\n",
    "            raise StopIteration"
   ]
  }
 ],
 "metadata": {
  "kernelspec": {
   "display_name": "Python 2",
   "language": "python",
   "name": "python2"
  },
  "language_info": {
   "codemirror_mode": {
    "name": "ipython",
    "version": 2
   },
   "file_extension": ".py",
   "mimetype": "text/x-python",
   "name": "python",
   "nbconvert_exporter": "python",
   "pygments_lexer": "ipython2",
   "version": "2.7.10"
  }
 },
 "nbformat": 4,
 "nbformat_minor": 0
}
