{
 "cells": [
  {
   "cell_type": "code",
   "execution_count": 17,
   "metadata": {
    "collapsed": false
   },
   "outputs": [],
   "source": [
    "class CounterBag:\n",
    "    def __init__( self ):\n",
    "        self._elements = list()\n",
    "        self._size = 0\n",
    "        \n",
    "    def __len__( self ):\n",
    "        return self._size\n",
    "    \n",
    "    def __contains__( self, item):\n",
    "        ndx = self._findPosition( item )\n",
    "        return ndx is not None\n",
    "    \n",
    "    def add( self, item ):\n",
    "        ndx = self._findPosition( item )\n",
    "        if ndx is None:\n",
    "            newEntry = BagEntry( item )\n",
    "            self._elements.append( newEntry )\n",
    "        else:\n",
    "            self._elements[ ndx ]._count += 1\n",
    "        self._size += 1\n",
    "        \n",
    "    def remove( self, item ):\n",
    "        ndx = self._findPosition( item )\n",
    "        assert ndx is not None, 'Item must be in Bag.'\n",
    "        if self._elements[ ndx ] == 1:\n",
    "            return self._elements.pop( ndx )\n",
    "        else:\n",
    "            self._elements[ ndx ]._count -= 1\n",
    "            return self._elements[ ndx ]._value\n",
    "        self._size -= 1\n",
    "        \n",
    "    def numOf( self, item ):\n",
    "        assert item in self, 'Item must be in bag.'\n",
    "        ndx = self._findPosition( item )\n",
    "        return self._elements[ ndx ]._count\n",
    "    \n",
    "    def _findPosition( self, item ):\n",
    "        for i in range( len( self._elements )):\n",
    "            if self._elements[ i ]._value == item:\n",
    "                return i\n",
    "        return None\n",
    "\n",
    "class BagEntry:\n",
    "    def __init__( self, value ):\n",
    "        self._value = value\n",
    "        self._count = 1\n",
    "            "
   ]
  },
  {
   "cell_type": "code",
   "execution_count": 18,
   "metadata": {
    "collapsed": false
   },
   "outputs": [
    {
     "name": "stdout",
     "output_type": "stream",
     "text": [
      "10\n"
     ]
    },
    {
     "data": {
      "text/plain": [
       "9"
      ]
     },
     "execution_count": 18,
     "metadata": {},
     "output_type": "execute_result"
    }
   ],
   "source": [
    "cb = CounterBag()\n",
    "for i in range( 10 ):\n",
    "    cb.add( 1 )\n",
    "print len( cb )\n",
    "cb.remove( 1 )\n",
    "cb.numOf(1)"
   ]
  }
 ],
 "metadata": {
  "kernelspec": {
   "display_name": "Python 2",
   "language": "python",
   "name": "python2"
  },
  "language_info": {
   "codemirror_mode": {
    "name": "ipython",
    "version": 2
   },
   "file_extension": ".py",
   "mimetype": "text/x-python",
   "name": "python",
   "nbconvert_exporter": "python",
   "pygments_lexer": "ipython2",
   "version": "2.7.10"
  }
 },
 "nbformat": 4,
 "nbformat_minor": 0
}
