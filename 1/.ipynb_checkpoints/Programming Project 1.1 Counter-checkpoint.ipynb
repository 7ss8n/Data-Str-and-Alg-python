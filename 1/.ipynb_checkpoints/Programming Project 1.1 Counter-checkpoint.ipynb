{
 "cells": [
  {
   "cell_type": "markdown",
   "metadata": {},
   "source": [
    "Click counter ADT"
   ]
  },
  {
   "cell_type": "code",
   "execution_count": null,
   "metadata": {
    "collapsed": true
   },
   "outputs": [],
   "source": [
    "class counter:\n",
    "    def __init__( self ):\n",
    "        self._num = 0\n",
    "        \n",
    "    def pushbutton( self ):\n",
    "        return self\n",
    "    \n",
    "    def increment( self ):\n",
    "        self._num += 1\n",
    "        return self._num\n",
    "    \n",
    "    def resetZero( self ):\n",
    "        self._num = 0"
   ]
  }
 ],
 "metadata": {
  "kernelspec": {
   "display_name": "Python 2",
   "language": "python",
   "name": "python2"
  },
  "language_info": {
   "codemirror_mode": {
    "name": "ipython",
    "version": 2
   },
   "file_extension": ".py",
   "mimetype": "text/x-python",
   "name": "python",
   "nbconvert_exporter": "python",
   "pygments_lexer": "ipython2",
   "version": "2.7.10"
  }
 },
 "nbformat": 4,
 "nbformat_minor": 0
}
