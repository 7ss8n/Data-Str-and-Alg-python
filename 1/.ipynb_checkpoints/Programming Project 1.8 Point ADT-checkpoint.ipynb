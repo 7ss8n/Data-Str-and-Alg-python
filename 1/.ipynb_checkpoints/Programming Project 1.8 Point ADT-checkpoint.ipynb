{
 "cells": [
  {
   "cell_type": "markdown",
   "metadata": {},
   "source": [
    "An implementation of Point ADT "
   ]
  },
  {
   "cell_type": "code",
   "execution_count": 1,
   "metadata": {
    "collapsed": true
   },
   "outputs": [],
   "source": [
    "from __future__ import division\n",
    "\n",
    "class Point:\n",
    "    def __init__( self, x, y ):\n",
    "        self._xcoord = x\n",
    "        self._ycoord = y\n",
    "    \n",
    "    def getX( self ):\n",
    "        return self._xcoord\n",
    "    \n",
    "    def getY( self ):\n",
    "        return self._ycoord\n",
    "    \n",
    "    def shift( self, xInc, yInc ):\n",
    "        self._xcoord += xInc\n",
    "        self._ycoord += yInc\n",
    "        \n",
    "    def distance( self, pointB ):\n",
    "        xDiff = self._xcoord - pointB._xcoord\n",
    "        yDiff = self._ycoord - pointB._ycoord\n",
    "        return math.sqrt( xDiff ** 2 + yDiff ** 2 )\n",
    "    \n",
    "class LineSegament:\n",
    "    def __init__( self, pointA, pointB ):\n",
    "        self._pointA = pointA\n",
    "        self._pointB = pointB\n",
    "        \n",
    "    def endPointA( self ):\n",
    "        return self._pointA\n",
    "    \n",
    "    def endPointB( self ):\n",
    "        return self._pointB\n",
    "    \n",
    "    def __len__( self ):\n",
    "        return self.endPointA().distance( self.endPointB() )\n",
    "    \n",
    "    def __str__( self ):\n",
    "        return str( self.endPointA() ) + '#' + str( self.endPointB() )\n",
    "    \n",
    "    def isvertical( self ):\n",
    "        return self.endPointA()._xcoord == self.endPointB()._xcoord\n",
    "    \n",
    "    def isHorizontal( self ):    \n",
    "        return self.endPointA()._ycoord == self.endPointB()._ycoord\n",
    "    \n",
    "    def isParallel( self, otherLine ):\n",
    "        if self.slope() is None:\n",
    "            return otherLine.slope() is None\n",
    "        return self.slope() == otherLine.slope()\n",
    "    \n",
    "    def isPerpendicular( self, otherLine ):\n",
    "        if self.slope() is None:\n",
    "            return otherLine.slope == 0\n",
    "        elif self.slope() == 0:\n",
    "            return otherLine.slope is None\n",
    "        else:\n",
    "            return (self.slope() + otherLine.slope()) == 1\n",
    "        \n",
    "    def slope( self ):\n",
    "        return ( self.endPointA()._ycoord - self.endPointB()._ycoord )\\\n",
    "                / ( self.endPointA()._xcoord - self.endPointB()._xcoord )\n",
    "        \n",
    "    def shift( self, xInc, yInc ):\n",
    "        self._pointA.shift( xInc, yInc )\n",
    "        self._pointB.shift( xInc, yInc )\n",
    "        \n",
    "    def midPoint( self ):\n",
    "        x = ( self.endPointA()._xcoord + self.endPointB()._xcoord ) / 2\n",
    "        y = ( self.endPointB()._ycoord + self.endPointB()._ycoord ) / 2\n",
    "        midPoint = Point( x, y )\n",
    "        return midPoint"
   ]
  }
 ],
 "metadata": {
  "kernelspec": {
   "display_name": "Python 2",
   "language": "python",
   "name": "python2"
  },
  "language_info": {
   "codemirror_mode": {
    "name": "ipython",
    "version": 2
   },
   "file_extension": ".py",
   "mimetype": "text/x-python",
   "name": "python",
   "nbconvert_exporter": "python",
   "pygments_lexer": "ipython2",
   "version": "2.7.10"
  }
 },
 "nbformat": 4,
 "nbformat_minor": 0
}
