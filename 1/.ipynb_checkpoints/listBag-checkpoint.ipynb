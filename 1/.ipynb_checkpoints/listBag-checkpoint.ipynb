{
 "cells": [
  {
   "cell_type": "markdown",
   "metadata": {},
   "source": [
    "A list implementation of Bag ADT"
   ]
  },
  {
   "cell_type": "code",
   "execution_count": 1,
   "metadata": {
    "collapsed": true
   },
   "outputs": [],
   "source": [
    "class listBag:\n",
    "    def __init__( self ):\n",
    "        self._elements = list()\n",
    "    \n",
    "    def __length__( self ):\n",
    "        return len( self._elements)\n",
    "    \n",
    "    def __contains__( self, item ):\n",
    "        return itme in self._elements\n",
    "    \n",
    "    def add( self, item ):\n",
    "        self._elements.append( item )\n",
    "        \n",
    "    def remove( self, item ):\n",
    "        assert item in self, \"Can not remove item not in bag\"\n",
    "        self._elements.remove( item )\n",
    "        return item\n",
    "    \n",
    "    def __iter__( self, item ):\n",
    "        return _Bagiterator( self._elements)\n",
    "    \n",
    "class _Bagiterator:\n",
    "    def __init__( self, list):\n",
    "        self._list = list\n",
    "        self._curNdx = 0\n",
    "        \n",
    "    def __iter__( self ):\n",
    "        return self\n",
    "    \n",
    "    def __next__( self ):\n",
    "        if self._curNdx < len( self._list ):\n",
    "            item = self._list[ self._curNdx]\n",
    "            self._curNdx += 1\n",
    "            return item\n",
    "        \n",
    "        else:\n",
    "            raise StopIteration"
   ]
  },
  {
   "cell_type": "code",
   "execution_count": null,
   "metadata": {
    "collapsed": true
   },
   "outputs": [],
   "source": []
  }
 ],
 "metadata": {
  "kernelspec": {
   "display_name": "Python 2",
   "language": "python",
   "name": "python2"
  },
  "language_info": {
   "codemirror_mode": {
    "name": "ipython",
    "version": 2
   },
   "file_extension": ".py",
   "mimetype": "text/x-python",
   "name": "python",
   "nbconvert_exporter": "python",
   "pygments_lexer": "ipython2",
   "version": "2.7.10"
  }
 },
 "nbformat": 4,
 "nbformat_minor": 0
}
