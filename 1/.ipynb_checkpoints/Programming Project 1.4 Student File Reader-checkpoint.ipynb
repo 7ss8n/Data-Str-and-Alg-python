{
 "cells": [
  {
   "cell_type": "markdown",
   "metadata": {},
   "source": [
    "An implementation of student file reader ADT"
   ]
  },
  {
   "cell_type": "code",
   "execution_count": 1,
   "metadata": {
    "collapsed": true
   },
   "outputs": [],
   "source": [
    "class studentFileReader:\n",
    "    def __init__( self, inputSrc):\n",
    "        self._inputSrc = inputSrc\n",
    "        self._inputFile = None\n",
    "        \n",
    "    def open( self ):\n",
    "        self._inputSrc = open( self._inputSrc, 'r' )\n",
    "    \n",
    "    def close( self ):\n",
    "        self._inputFile.close()\n",
    "        self._inputFile = None\n",
    "        \n",
    "    def fetchRecord( self ):\n",
    "        line = self._inputFile.readline().split( ',' )\n",
    "        if line == '':\n",
    "            return None\n",
    "        student = studentRecord()\n",
    "        student.idNum = int( line[0])\n",
    "        student.firstName = line[1].rstrip()\n",
    "        student.lastName = line[2].rstrip()\n",
    "        student.classCode = int( line[3] )\n",
    "        student.gpa = float( line[4] )\n",
    "        return student\n",
    "    \n",
    "    def fetchAll( self ):\n",
    "        theRecords = list()\n",
    "        student = self.fecthRecord()\n",
    "        while student is not None:\n",
    "            theRecords.append( student )\n",
    "            student = self.fetchRecord()\n",
    "        return theRecords\n",
    "    \n",
    "class studentRecord:\n",
    "    def __init__( self ):\n",
    "        student.idNum = 0\n",
    "        student.firstName = None\n",
    "        student.lastName = None\n",
    "        student.classCode = 0\n",
    "        studnet.gpa = 0.0"
   ]
  }
 ],
 "metadata": {
  "kernelspec": {
   "display_name": "Python 2",
   "language": "python",
   "name": "python2"
  },
  "language_info": {
   "codemirror_mode": {
    "name": "ipython",
    "version": 2
   },
   "file_extension": ".py",
   "mimetype": "text/x-python",
   "name": "python",
   "nbconvert_exporter": "python",
   "pygments_lexer": "ipython2",
   "version": "2.7.10"
  }
 },
 "nbformat": 4,
 "nbformat_minor": 0
}
