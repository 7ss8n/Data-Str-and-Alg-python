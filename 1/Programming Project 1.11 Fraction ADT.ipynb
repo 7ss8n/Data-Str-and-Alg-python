{
 "cells": [
  {
   "cell_type": "markdown",
   "metadata": {},
   "source": [
    "An implementation of Fraction ADT"
   ]
  },
  {
   "cell_type": "code",
   "execution_count": 2,
   "metadata": {
    "collapsed": false
   },
   "outputs": [],
   "source": [
    "class Fraction:\n",
    "    def __init__( self, num, denom ):\n",
    "        assert denom != 0, 'Denominator can not be zero.'\n",
    "        self._num = num\n",
    "        self._denom =denom\n",
    "        \n",
    "    def _gcd( self, a, b ):\n",
    "        while b:\n",
    "            a, b = b, a%b\n",
    "        return a\n",
    "    \n",
    "    def isValid( self ):\n",
    "        return self._gcd( self._num, self._denom ) == 1 or self._gcd( self._num, self._denom ) == -1\n",
    "    \n",
    "    def __add__( self, FractionB ):\n",
    "        num = self._num * FractionB._denom + self._denom * FractionB._num\n",
    "        denom = self._denom * FractionB._denom\n",
    "        gcd = self._gcd( num, denom )\n",
    "        num /= gcd\n",
    "        denom /= gcd\n",
    "        f = Fraction( num, denom )\n",
    "        return f\n",
    "    \n",
    "    def __sub__( self, FractionB ):\n",
    "        num = self._num * FractionB._denom - self._denom * FractionB._num\n",
    "        denom = self._denom * FractionB._denom\n",
    "        gcd = self._gcd( num, denom )\n",
    "        num /= gcd\n",
    "        denom /= gcd\n",
    "        f = Fraction( num, denom )\n",
    "        return f\n",
    "    \n",
    "    def __mul__( self, FractionB ):\n",
    "        num = self._num * FractionB._num\n",
    "        denom = self._denom * FractionB._denom\n",
    "        gcd = self._gcd( num, denom )\n",
    "        num /= gcd\n",
    "        denom /= gcd\n",
    "        f = Fraction( num, denom )\n",
    "        return f\n",
    "    \n",
    "    def __lt__( self, FractionB ):\n",
    "        a = self._num * FractionB._denom\n",
    "        b = self._denom * FractionB._num\n",
    "        return a < b\n",
    "    \n",
    "    def __le__( self, FractionB ):\n",
    "        a = self._num * FractionB._denom\n",
    "        b = self._denom * FractionB._num\n",
    "        return a <= b\n",
    "    \n",
    "    def __gt__( self, FractionB ):\n",
    "        a = self._num * FractionB._denom\n",
    "        b = self._denom * FractionB._num\n",
    "        return a > b\n",
    "    \n",
    "    def __ge__( self, FractionB ):\n",
    "        a = self._num * FractionB._denom\n",
    "        b = self._denom * FractionB._num\n",
    "        return a >= b\n",
    "    \n",
    "    def __eq__( self, FractionB ):\n",
    "        a = self._num * FractionB._denom\n",
    "        b = self._denom * FractionB._num\n",
    "        return a == b\n",
    "    \n",
    "    def __ne__( self, FractionB ):\n",
    "        a = self._num * FractionB._denom\n",
    "        b = self._denom * FractionB._num\n",
    "        return a != b\n",
    "    \n",
    "    def __str__( self ):\n",
    "        return str( self._num ) + '/' + str( self._denom )"
   ]
  },
  {
   "cell_type": "markdown",
   "metadata": {},
   "source": [
    "Test"
   ]
  },
  {
   "cell_type": "code",
   "execution_count": 3,
   "metadata": {
    "collapsed": false
   },
   "outputs": [
    {
     "name": "stdout",
     "output_type": "stream",
     "text": [
      "1/4 1/2 3/4 -1/4 1/8 True\n"
     ]
    }
   ],
   "source": [
    "a = Fraction( 1, 4 )\n",
    "b = Fraction( 1, 2 )\n",
    "print a, b, a + b, a - b, a * b, a < b"
   ]
  }
 ],
 "metadata": {
  "kernelspec": {
   "display_name": "Python 2",
   "language": "python",
   "name": "python2"
  },
  "language_info": {
   "codemirror_mode": {
    "name": "ipython",
    "version": 2
   },
   "file_extension": ".py",
   "mimetype": "text/x-python",
   "name": "python",
   "nbconvert_exporter": "python",
   "pygments_lexer": "ipython2",
   "version": "2.7.10"
  }
 },
 "nbformat": 4,
 "nbformat_minor": 0
}
