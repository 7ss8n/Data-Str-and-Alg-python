{
 "cells": [
  {
   "cell_type": "markdown",
   "metadata": {},
   "source": [
    "A list implementation of grabbag"
   ]
  },
  {
   "cell_type": "code",
   "execution_count": null,
   "metadata": {
    "collapsed": true
   },
   "outputs": [],
   "source": [
    "class GrabBag:\n",
    "    def __init__( self ):\n",
    "        self._elements = list()\n",
    "    \n",
    "    def __length__( self ):\n",
    "        return len( self._elements)\n",
    "    \n",
    "    def __contains__( self, item ):\n",
    "        return item in self._elements\n",
    "    \n",
    "    def add( self ,item ):\n",
    "        self._elements.append( item )\n",
    "    \n",
    "    def grabItem( self ):\n",
    "        ndx = random.ranint( 0, len( self ) ):\n",
    "        item = self._elements[ ndx ]\n",
    "        self._elements.remove( item )\n",
    "        return item"
   ]
  }
 ],
 "metadata": {
  "kernelspec": {
   "display_name": "Python 2",
   "language": "python",
   "name": "python2"
  },
  "language_info": {
   "codemirror_mode": {
    "name": "ipython",
    "version": 2
   },
   "file_extension": ".py",
   "mimetype": "text/x-python",
   "name": "python",
   "nbconvert_exporter": "python",
   "pygments_lexer": "ipython2",
   "version": "2.7.10"
  }
 },
 "nbformat": 4,
 "nbformat_minor": 0
}
