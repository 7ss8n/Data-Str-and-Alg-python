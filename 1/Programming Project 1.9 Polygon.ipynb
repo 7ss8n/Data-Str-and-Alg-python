{
 "cells": [
  {
   "cell_type": "markdown",
   "metadata": {},
   "source": [
    "An Implementation of Polygon"
   ]
  },
  {
   "cell_type": "code",
   "execution_count": 2,
   "metadata": {
    "collapsed": true
   },
   "outputs": [],
   "source": [
    "from __future__ import division\n",
    "class Polygon:\n",
    "    def __init__( self, *vertices ):\n",
    "        self._vertices = [ point for point in vertices ]\n",
    "        \n",
    "    def numVectices( self ):\n",
    "        return len( self._vertices )\n",
    "    \n",
    "    def __str__( self ):\n",
    "        result = ''\n",
    "        for point in self._vertices:\n",
    "            result += str( point ) + ', '\n",
    "    \n",
    "    def shift( self, xInc, yInc ):\n",
    "        for point in self._vertices:\n",
    "            point.shift( xInc, yInc )\n",
    "            \n",
    "    def area( self ):\n",
    "        darea = 0\n",
    "        for i in range( len( self._vertices ) - 1 ):\n",
    "            darea += ( self._vertices[ i ]._xcoord + self._vertices[ i + 1 ]._xcoord )\\\n",
    "            * ( self._vertices[ i ]._ycoord + self._vertices[ i + 1 ]._ycoord )\n",
    "        darea += ( self._vertices[ -1 ]._xcoord + self._vertices[ 0 ]._xcoord )\\\n",
    "        * ( self._vertices[ -1 ]._ycoord + self._vertices[ 0 ]._ycoord )\n",
    "        return darea / 2"
   ]
  }
 ],
 "metadata": {
  "kernelspec": {
   "display_name": "Python 2",
   "language": "python",
   "name": "python2"
  },
  "language_info": {
   "codemirror_mode": {
    "name": "ipython",
    "version": 2
   },
   "file_extension": ".py",
   "mimetype": "text/x-python",
   "name": "python",
   "nbconvert_exporter": "python",
   "pygments_lexer": "ipython2",
   "version": "2.7.10"
  }
 },
 "nbformat": 4,
 "nbformat_minor": 0
}
